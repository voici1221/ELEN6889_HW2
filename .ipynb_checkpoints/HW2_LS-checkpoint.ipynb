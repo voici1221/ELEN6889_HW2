{
 "cells": [
  {
   "cell_type": "code",
   "execution_count": 1,
   "id": "a625af70",
   "metadata": {},
   "outputs": [],
   "source": [
    "import pyspark\n",
    "sc = pyspark.SparkContext()"
   ]
  },
  {
   "cell_type": "code",
   "execution_count": 2,
   "id": "97579cb2",
   "metadata": {},
   "outputs": [],
   "source": [
    "import random\n",
    "import numpy as np\n",
    "from datetime import datetime\n",
    "import matplotlib.pyplot as plt"
   ]
  },
  {
   "cell_type": "code",
   "execution_count": 5,
   "id": "bd71714f",
   "metadata": {},
   "outputs": [
    {
     "data": {
      "text/plain": [
       "([0, 3000, 6000, 10000], [3000, 3000, 4000])"
      ]
     },
     "execution_count": 5,
     "metadata": {},
     "output_type": "execute_result"
    }
   ],
   "source": [
    "data = sc.parallelize(list(range(0,10000)))\n",
    "data.persist()\n",
    "data_stat = data.histogram([0, 3000, 6000,10000])\n",
    "data_stat"
   ]
  },
  {
   "cell_type": "code",
   "execution_count": 6,
   "id": "91f06d8f",
   "metadata": {},
   "outputs": [
    {
     "data": {
      "text/plain": [
       "[3000, 3000, 4000]"
      ]
     },
     "execution_count": 6,
     "metadata": {},
     "output_type": "execute_result"
    }
   ],
   "source": [
    "data_stat[1]"
   ]
  },
  {
   "cell_type": "code",
   "execution_count": 7,
   "id": "d09508da",
   "metadata": {},
   "outputs": [],
   "source": [
    "len_data = data.count()"
   ]
  },
  {
   "cell_type": "code",
   "execution_count": 16,
   "id": "bdac5a1f",
   "metadata": {},
   "outputs": [],
   "source": [
    "sel = np.arange(0.01,1.1,0.1)\n",
    "acc = []\n",
    "tp = [] \n",
    "for x in sel:\n",
    "    startA = datetime.now()\n",
    "    load_shedder = data.sample(False,x)\n",
    "    load_shedder.persist()\n",
    "    load_shedder.first()\n",
    "    stopA = datetime.now()\n",
    "    \n",
    "    costA = ((stopA - startA).seconds * 10**6 + (stopA - startA).microseconds) / len_data \n",
    "    \n",
    "    startB = datetime.now()\n",
    "    new_data = load_shedder.histogram([0, 3000, 6000,9000])\n",
    "    stopB = datetime.now()\n",
    "    \n",
    "    costB = ((stopB - startB).seconds * 10**6 + (stopB - startB).microseconds) / (len_data)\n",
    "    error = np.linalg.norm(np.array(data_stat[1]) - np.array(new_data[1]) ,ord = 1) / np.linalg.norm(np.array(data_stat[1]),ord = 1)\n",
    "    load_shedder.unpersist()\n",
    "    \n",
    "    tp.append(1 / (costA + x * costB))\n",
    "    acc.append(1 - error)"
   ]
  },
  {
   "cell_type": "code",
   "execution_count": 19,
   "id": "e32ad8b4",
   "metadata": {},
   "outputs": [
    {
     "data": {
      "image/png": "[encoded data removed]",
      "text/plain": [
       "<Figure size 432x288 with 1 Axes>"
      ]
     },
     "metadata": {
      "needs_background": "light"
     },
     "output_type": "display_data"
    }
   ],
   "source": [
    "tp = tp / max(tp)\n",
    "plt.figure()\n",
    "plt.plot(sel,acc)\n",
    "plt.plot(sel,tp)\n",
    "plt.xscale('log')\n",
    "plt.legend(['Accuracy','throughput'])\n",
    "plt.show()"
   ]
  },
  {
   "cell_type": "code",
   "execution_count": null,
   "id": "18d444f9",
   "metadata": {},
   "outputs": [],
   "source": []
  }
 ],
 "metadata": {
  "kernelspec": {
   "display_name": "Python 3",
   "language": "python",
   "name": "python3"
  },
  "language_info": {
   "codemirror_mode": {
    "name": "ipython",
    "version": 3
   },
   "file_extension": ".py",
   "mimetype": "text/x-python",
   "name": "python",
   "nbconvert_exporter": "python",
   "pygments_lexer": "ipython3",
   "version": "3.8.8"
  }
 },
 "nbformat": 4,
 "nbformat_minor": 5
}
