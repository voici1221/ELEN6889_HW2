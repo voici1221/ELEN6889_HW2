{
 "cells": [
  {
   "cell_type": "code",
   "execution_count": 1,
   "id": "a77c29e8",
   "metadata": {},
   "outputs": [],
   "source": [
    "import pyspark\n",
    "sc = pyspark.SparkContext()"
   ]
  },
  {
   "cell_type": "code",
   "execution_count": 2,
   "id": "087cea5d",
   "metadata": {},
   "outputs": [],
   "source": [
    "import random\n",
    "import numpy as np\n",
    "from datetime import datetime\n",
    "import matplotlib.pyplot as plt"
   ]
  },
  {
   "cell_type": "code",
   "execution_count": 8,
   "id": "896dbf75",
   "metadata": {},
   "outputs": [
    {
     "data": {
      "text/plain": [
       "0"
      ]
     },
     "execution_count": 8,
     "metadata": {},
     "output_type": "execute_result"
    }
   ],
   "source": [
    "data = sc.parallelize(list(range(0,10000)))\n",
    "data.persist()\n",
    "data.first()"
   ]
  },
  {
   "cell_type": "code",
   "execution_count": 9,
   "id": "15797087",
   "metadata": {},
   "outputs": [],
   "source": [
    "len_data = data.count()"
   ]
  },
  {
   "cell_type": "code",
   "execution_count": 10,
   "id": "761bc9a7",
   "metadata": {},
   "outputs": [
    {
     "data": {
      "text/plain": [
       "0.5"
      ]
     },
     "execution_count": 10,
     "metadata": {},
     "output_type": "execute_result"
    }
   ],
   "source": [
    "A = data.filter(lambda x: x % 2 == 1)\n",
    "sel_A = A.count() / len_data\n",
    "sel_A"
   ]
  },
  {
   "cell_type": "code",
   "execution_count": 16,
   "id": "a25c8630",
   "metadata": {},
   "outputs": [],
   "source": [
    "#A,B\n",
    "sel_B = np.arange(0.1,1.1,0.1)\n",
    "reorder = []\n",
    "not_reorder = []\n",
    "for x in sel_B:\n",
    "    startA = datetime.now()\n",
    "    A = data.filter(lambda x: x % 2 == 1)\n",
    "    A.persist()\n",
    "    A.first()\n",
    "    stopA = datetime.now()\n",
    "    costA =  ((stopA - startA).seconds * 10**6 + (stopA - startA).microseconds) / len_data\n",
    "    startB = datetime.now()\n",
    "    B = A.sample(False,x)\n",
    "    B.first()\n",
    "    stopB = datetime.now()\n",
    "    costB = ((stopB - startB).seconds * 10**6 + (stopB - startB).microseconds) / len_data\n",
    "    tp1 = 1 / (costA + sel_A * costB)\n",
    "    A.unpersist()\n",
    "    \n",
    "    startB = datetime.now()\n",
    "    B = data.sample(False,x)\n",
    "    B.persist()\n",
    "    B.first()\n",
    "    stopB = datetime.now()\n",
    "    costB = ((stopB - startB).seconds * 10**6 + (stopB - startB).microseconds) / len_data\n",
    "    startA = datetime.now()\n",
    "    A = data.filter(lambda x: x % 2 == 1)\n",
    "    A.first()\n",
    "    stopA = datetime.now()\n",
    "    costA = ((stopA - startA).seconds * 10**6 + (stopA - startA).microseconds) / len_data\n",
    "    tp2 = 1 / (costB + x * costA)\n",
    "    B.unpersist()\n",
    "    reorder.append(tp2 / tp1)\n",
    "    not_reorder.append(tp1 / tp1)\n",
    "    "
   ]
  },
  {
   "cell_type": "code",
   "execution_count": 50,
   "id": "8db66ebb",
   "metadata": {},
   "outputs": [
    {
     "data": {
      "image/png": "[encoded data removed]",
      "text/plain": [
       "<Figure size 432x288 with 1 Axes>"
      ]
     },
     "metadata": {
      "needs_background": "light"
     },
     "output_type": "display_data"
    }
   ],
   "source": [
    "plt.figure()\n",
    "plt.plot(sel_B,reorder)\n",
    "plt.plot(sel_B, not_reorder)\n",
    "plt.ylim(0, 2)\n",
    "plt.legend(['Reordered','Not reordered'])\n",
    "plt.show()"
   ]
  },
  {
   "cell_type": "code",
   "execution_count": null,
   "id": "51e374dc",
   "metadata": {},
   "outputs": [],
   "source": []
  }
 ],
 "metadata": {
  "kernelspec": {
   "display_name": "Python 3",
   "language": "python",
   "name": "python3"
  },
  "language_info": {
   "codemirror_mode": {
    "name": "ipython",
    "version": 3
   },
   "file_extension": ".py",
   "mimetype": "text/x-python",
   "name": "python",
   "nbconvert_exporter": "python",
   "pygments_lexer": "ipython3",
   "version": "3.8.8"
  }
 },
 "nbformat": 4,
 "nbformat_minor": 5
}
