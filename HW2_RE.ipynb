{
 "cells": [
  {
   "cell_type": "code",
   "execution_count": 1,
   "id": "de44374e",
   "metadata": {},
   "outputs": [],
   "source": [
    "import pyspark\n",
    "sc = pyspark.SparkContext()"
   ]
  },
  {
   "cell_type": "code",
   "execution_count": 2,
   "id": "ed3ccf5d",
   "metadata": {},
   "outputs": [],
   "source": [
    "import random\n",
    "import numpy as np\n",
    "from datetime import datetime\n",
    "import matplotlib.pyplot as plt"
   ]
  },
  {
   "cell_type": "code",
   "execution_count": 3,
   "id": "426876df",
   "metadata": {},
   "outputs": [
    {
     "data": {
      "text/plain": [
       "0"
      ]
     },
     "execution_count": 3,
     "metadata": {},
     "output_type": "execute_result"
    }
   ],
   "source": [
    "data = sc.parallelize(list(range(0,10000)))\n",
    "data.persist()\n",
    "data.first()"
   ]
  },
  {
   "cell_type": "code",
   "execution_count": 4,
   "id": "01404674",
   "metadata": {},
   "outputs": [],
   "source": [
    "len_data = data.count()"
   ]
  },
  {
   "cell_type": "code",
   "execution_count": 5,
   "id": "759d9b9c",
   "metadata": {},
   "outputs": [
    {
     "data": {
      "text/plain": [
       "5000"
      ]
     },
     "execution_count": 5,
     "metadata": {},
     "output_type": "execute_result"
    }
   ],
   "source": [
    "A = data.filter(lambda x : x % 2 == 1)\n",
    "A.count()"
   ]
  },
  {
   "cell_type": "code",
   "execution_count": 17,
   "id": "e1da3716",
   "metadata": {},
   "outputs": [],
   "source": [
    "#operator A\n",
    "tp_R = []\n",
    "tp_notR = []\n",
    "x_index = []\n",
    "for i in range(10):\n",
    "    startA = datetime.now()\n",
    "    for j in range(10*i):\n",
    "        A = data.filter(lambda x : x % 2 == 1)\n",
    "        A.first()\n",
    "    stopA = datetime.now()\n",
    "    timeA =  ((stopA - startA).seconds * 10**6 + (stopA - startA).microseconds) \n",
    "    \n",
    "    \n",
    "    startBC = datetime.now()\n",
    "    \n",
    "    B = A.map(lambda x : x + 1)\n",
    "    B.first()\n",
    "\n",
    "    C = A.map(lambda x : x + 2)\n",
    "    C.first()\n",
    "    \n",
    "    stopBC = datetime.now()\n",
    "    timeBC =  ((stopBC - startBC).seconds * 10**6 + (stopBC - startBC).microseconds) \n",
    "    \n",
    "    tp_R.append(len_data / (2 * timeA + timeBC))\n",
    "    tp_notR.append(len_data / (timeA + timeBC))\n",
    "    x_index.append(timeA / (timeA + timeBC))"
   ]
  },
  {
   "cell_type": "code",
   "execution_count": 12,
   "id": "c0863589",
   "metadata": {},
   "outputs": [],
   "source": [
    "normalized_tp = []\n",
    "not_eliminate = []\n",
    "for i in range(10):\n",
    "    normalized_tp.append(tp_notR[i] / tp_R[i])\n",
    "    not_eliminate.append(tp_R[i] / tp_R[i])"
   ]
  },
  {
   "cell_type": "code",
   "execution_count": 16,
   "id": "2e6b3745",
   "metadata": {},
   "outputs": [
    {
     "data": {
      "image/png": "[encoded data removed]",
      "text/plain": [
       "<Figure size 432x288 with 1 Axes>"
      ]
     },
     "metadata": {
      "needs_background": "light"
     },
     "output_type": "display_data"
    }
   ],
   "source": [
    "plt.figure()\n",
    "plt.plot(x_index,normalized_tp)\n",
    "plt.plot(x_index,not_eliminate)\n",
    "plt.legend(['Elimination','Not Elimination'])\n",
    "plt.ylim(0,1.1)\n",
    "plt.show()"
   ]
  }
 ],
 "metadata": {
  "kernelspec": {
   "display_name": "Python 3",
   "language": "python",
   "name": "python3"
  },
  "language_info": {
   "codemirror_mode": {
    "name": "ipython",
    "version": 3
   },
   "file_extension": ".py",
   "mimetype": "text/x-python",
   "name": "python",
   "nbconvert_exporter": "python",
   "pygments_lexer": "ipython3",
   "version": "3.8.8"
  }
 },
 "nbformat": 4,
 "nbformat_minor": 5
}
